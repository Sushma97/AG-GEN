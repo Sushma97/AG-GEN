{
 "cells": [
  {
   "cell_type": "code",
   "execution_count": 22,
   "id": "d3210129",
   "metadata": {},
   "outputs": [],
   "source": [
    "import pandas as pd\n",
    "import numpy as np\n",
    "import datetime as dt\n",
    "from bs4 import BeautifulSoup\n",
    "from urllib.request import urlopen, Request\n",
    "import requests, unicodedata, json, time, re\n",
    "from prettyprinter import pprint\n",
    "from time import sleep\n",
    "from random import randint\n",
    "import requests\n",
    "import os\n",
    "import time\n",
    "import random\n",
    "import sys"
   ]
  },
  {
   "cell_type": "code",
   "execution_count": 23,
   "id": "38e88cf6",
   "metadata": {},
   "outputs": [],
   "source": [
    "def fetch_data(city, shortcity, producename, shortname, year, directory):\n",
    "    \"\"\"Given a city and produce item, fetches a year of data and saves it in a target directory.\n",
    "    Skips any cities/items/year combos that have already been downloaded. Slightly hardened against \n",
    "    timeouts,etc. from the USDA server, which is a bit flaky.\n",
    "    \"\"\"\n",
    "    if str(city)+'_'+str(producename)+'_'+str(year)+'.html' not in os.listdir(directory):\n",
    "        # this is modified to retrieve 06/01/18 to 06/25/18\n",
    "        url = 'https://www.marketnews.usda.gov/mnp/fv-report?&commAbr='+str(shortname)+'&repType=termPriceDaily&repTypeChanger=termPriceDaily&locAbrPass='+str(producename)+'%7C%7C'+str(shortname)+'&step3date=true&locName='+str(city)+'&type=termPrice&locChoose=location&refine=false&_environment=1&locAbrlength=1&organic=NO&environment=&locAbr='+str(shortcity)+'&commodityClass=allcommodity&Run=Run&repDate=06%2F01%2F'+str(year)+'&endDate=06%2F25%2F'+str(int(year))+'&format=excel&rebuild=false'\n",
    "\n",
    "        try:\n",
    "            r = requests.get(url, allow_redirects=True, timeout=300)\n",
    "            open(str(directory)+str(city)+'_'+str(producename)+'_'+str(year)+'.html', 'wb').write(r.content)\n",
    "            return True\n",
    "        except requests.exceptions.Timeout:\n",
    "            print('request timed out, trying again...')\n",
    "            try:\n",
    "                r = requests.get(url, allow_redirects=True, timeout=300)\n",
    "                open(str(directory)+str(city)+'_'+str(producename)+'_'+str(year)+'.html', 'wb').write(r.content)\n",
    "                return True\n",
    "            except requests.exceptions.Timeout:\n",
    "                print('request timed out again, exiting...')\n",
    "                sys.exit()\n",
    "    else:\n",
    "        return False\n",
    "\n"
   ]
  },
  {
   "cell_type": "code",
   "execution_count": 24,
   "id": "cd3fc3be",
   "metadata": {},
   "outputs": [],
   "source": [
    "test_city = 'NEW+YORK'\n",
    "test_short = 'NX'\n",
    "test_producename = 'CARROTS'\n",
    "test_year = '2007'"
   ]
  },
  {
   "cell_type": "code",
   "execution_count": 25,
   "id": "25134c85",
   "metadata": {},
   "outputs": [],
   "source": [
    "cities = ['NEW+YORK', 'LOS+ANGELES']\n",
    "shortcities = ['NX', 'HC']\n",
    "veggies = ['APPLES','APRICOTS','ASPARAGUS','AVOCADOS','BANANAS','BEANS','BEETS','BLACKBERRIES','BLUEBERRIES','BROCCOLI','BRUSSELS+SPROUTS','CABBAGE','CANTALOUPS','CARROTS','CAULIFLOWER','CELERY','CHERRIES','CLEMENTINES','CORN-SWEET','CRANBERRIES', 'CUCUMBERS','EGGPLANT','ENDIVE','GARLIC','GINGER+ROOT','GRAPEFRUIT','GRAPES','HONEYDEWS','KALE+GREENS','KIWIFRUIT','KOHLRABI','LEMONS','LETTUCE%2C+ICEBERG','LETTUCE%2C+ROMAINE','LETTUCE%2C+RED+LEAF','LETTUCE%2C+GREEN+LEAF','LETTUCE%2C+BIBB', 'LIMES','MANGOES','MUSHROOMS','NECTARINES','OKRA','ORANGES','PEACHES','PEARS','PEAS+GREEN','PEPPERS%2C+BELL+TYPE','PINEAPPLES','PLUMS','POTATOES','PUMPKINS','RADISHES','RASPBERRIES','RHUBARB','SPINACH','SQUASH','STRAWBERRIES','SWEET+POTATOES','TOMATOES','TURNIPS','WATERMELONS']\n",
    "shortveg = ['APL','APR','ASP','AVOC','BAN','BNS','BTS','BLKBERI-V','BLUBY','BROC','BRSPT','CAB','CANT','CARR','CAUL','CEL','CHER','CLEM','CORN','CRBY','CUX','EGPLT','END','GARLIC','GNGRT','GRPFT','GRPS','HDEW','KALEGRNS','KIWI','KOHLRABI','LEM','LETT','LETTR','RDLFLET-V','GRNLFLET-V','BIBBLET-V','LIM','MANGO','MUSH','NECT','OKRA','ORG','PCH','PEAR','PEASG','PEP','PINE','PLUM','POTS','PUMP','RAD','RASP','RHUB','SPIN','SQU','STRBY','SWPOT','TOM','TRNP','WMEL']\n",
    "#years = ['2007','2008', '2009','2010','2011','2012','2013','2014','2015','2016','2017']\n",
    "# replace with 2018 data\n",
    "years = ['2020']\n",
    "targdir = './'"
   ]
  },
  {
   "cell_type": "code",
   "execution_count": 26,
   "id": "a6168d2f",
   "metadata": {},
   "outputs": [
    {
     "name": "stdout",
     "output_type": "stream",
     "text": [
      "fetched NEW+YORK APPLES 2020, sleeping for 16s\n",
      "fetched NEW+YORK APRICOTS 2020, sleeping for 18s\n"
     ]
    },
    {
     "ename": "KeyboardInterrupt",
     "evalue": "",
     "output_type": "error",
     "traceback": [
      "\u001b[0;31m---------------------------------------------------------------------------\u001b[0m",
      "\u001b[0;31mKeyboardInterrupt\u001b[0m                         Traceback (most recent call last)",
      "\u001b[0;32m<ipython-input-26-79ed15f9cf22>\u001b[0m in \u001b[0;36m<module>\u001b[0;34m\u001b[0m\n\u001b[1;32m     10\u001b[0m                 \u001b[0;32mif\u001b[0m \u001b[0mfetch_data\u001b[0m\u001b[0;34m(\u001b[0m\u001b[0mc\u001b[0m\u001b[0;34m,\u001b[0m \u001b[0mshortcities\u001b[0m\u001b[0;34m[\u001b[0m\u001b[0mcount_city\u001b[0m\u001b[0;34m]\u001b[0m\u001b[0;34m,\u001b[0m \u001b[0mv\u001b[0m\u001b[0;34m,\u001b[0m \u001b[0mshortveg\u001b[0m\u001b[0;34m[\u001b[0m\u001b[0mcount_veg\u001b[0m\u001b[0;34m]\u001b[0m\u001b[0;34m,\u001b[0m \u001b[0my\u001b[0m\u001b[0;34m,\u001b[0m \u001b[0mtargdir\u001b[0m\u001b[0;34m)\u001b[0m\u001b[0;34m:\u001b[0m\u001b[0;34m\u001b[0m\u001b[0;34m\u001b[0m\u001b[0m\n\u001b[1;32m     11\u001b[0m                     \u001b[0mprint\u001b[0m\u001b[0;34m(\u001b[0m\u001b[0;34m'fetched '\u001b[0m\u001b[0;34m+\u001b[0m\u001b[0mstr\u001b[0m\u001b[0;34m(\u001b[0m\u001b[0mc\u001b[0m\u001b[0;34m)\u001b[0m\u001b[0;34m+\u001b[0m\u001b[0;34m' '\u001b[0m\u001b[0;34m+\u001b[0m\u001b[0mstr\u001b[0m\u001b[0;34m(\u001b[0m\u001b[0mv\u001b[0m\u001b[0;34m)\u001b[0m\u001b[0;34m+\u001b[0m\u001b[0;34m' '\u001b[0m\u001b[0;34m+\u001b[0m\u001b[0mstr\u001b[0m\u001b[0;34m(\u001b[0m\u001b[0my\u001b[0m\u001b[0;34m)\u001b[0m\u001b[0;34m+\u001b[0m\u001b[0;34m', sleeping for '\u001b[0m\u001b[0;34m+\u001b[0m\u001b[0mstr\u001b[0m\u001b[0;34m(\u001b[0m\u001b[0msleeptime\u001b[0m\u001b[0;34m)\u001b[0m\u001b[0;34m+\u001b[0m\u001b[0;34m's'\u001b[0m\u001b[0;34m)\u001b[0m\u001b[0;34m\u001b[0m\u001b[0;34m\u001b[0m\u001b[0m\n\u001b[0;32m---> 12\u001b[0;31m                     \u001b[0mtime\u001b[0m\u001b[0;34m.\u001b[0m\u001b[0msleep\u001b[0m\u001b[0;34m(\u001b[0m\u001b[0msleeptime\u001b[0m\u001b[0;34m)\u001b[0m\u001b[0;34m\u001b[0m\u001b[0;34m\u001b[0m\u001b[0m\n\u001b[0m\u001b[1;32m     13\u001b[0m             \u001b[0;32mexcept\u001b[0m \u001b[0mOSError\u001b[0m\u001b[0;34m:\u001b[0m\u001b[0;34m\u001b[0m\u001b[0;34m\u001b[0m\u001b[0m\n\u001b[1;32m     14\u001b[0m                 \u001b[0mprint\u001b[0m\u001b[0;34m(\u001b[0m\u001b[0;34m'problem fetching, trying again...'\u001b[0m\u001b[0;34m)\u001b[0m\u001b[0;34m\u001b[0m\u001b[0;34m\u001b[0m\u001b[0m\n",
      "\u001b[0;31mKeyboardInterrupt\u001b[0m: "
     ]
    }
   ],
   "source": [
    "initial_time = time.time()\n",
    "count_city = 0\n",
    "for c in cities:\n",
    "    count_veg = 0\n",
    "    for v in veggies:\n",
    "        for y in years:\n",
    "            random.seed()\n",
    "            sleeptime = random.randint(8, 18)\n",
    "            try:\n",
    "                if fetch_data(c, shortcities[count_city], v, shortveg[count_veg], y, targdir):\n",
    "                    print('fetched '+str(c)+' '+str(v)+' '+str(y)+', sleeping for '+str(sleeptime)+'s')\n",
    "                    time.sleep(sleeptime)\n",
    "            except OSError:\n",
    "                print('problem fetching, trying again...')\n",
    "                try:\n",
    "                    if fetch_data(c, shortcities[count_city], v, shortveg[count_veg], y, targdir):\n",
    "                        print('fetched '+str(c)+' '+str(v)+' '+str(y)+', sleeping for '+str(sleeptime)+'s')\n",
    "                        time.sleep(sleeptime)\n",
    "                except OSError:\n",
    "                    print('problem fetching, trying one last time...')\n",
    "                    if fetch_data(c, shortcities[count_city], v, shortveg[count_veg], y, targdir):\n",
    "                        print('fetched '+str(c)+' '+str(v)+' '+str(y)+', sleeping for '+str(sleeptime)+'s')\n",
    "                        time.sleep(sleeptime)        \n",
    "        count_veg+=1\n",
    "    count_city+=1\n",
    "final_time = time.time()\n",
    "print('fetched in '+str(round(final_time-initial_time, 2))+'s')\n",
    "\n"
   ]
  }
 ],
 "metadata": {
  "kernelspec": {
   "display_name": "Python 3",
   "language": "python",
   "name": "python3"
  },
  "language_info": {
   "codemirror_mode": {
    "name": "ipython",
    "version": 3
   },
   "file_extension": ".py",
   "mimetype": "text/x-python",
   "name": "python",
   "nbconvert_exporter": "python",
   "pygments_lexer": "ipython3",
   "version": "3.8.5"
  }
 },
 "nbformat": 4,
 "nbformat_minor": 5
}
